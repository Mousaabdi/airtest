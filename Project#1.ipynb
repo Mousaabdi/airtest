{
 "cells": [
  {
   "cell_type": "code",
   "execution_count": 2,
   "metadata": {},
   "outputs": [],
   "source": [
    "import pandas as pd\n",
    "import matplotlib as cm\n",
    "from datascience import *\n",
    "import numpy as np\n",
    "import matplotlib.pyplot as plots\n",
    "plots.style.use('fivethirtyeight')\n",
    "%matplotlib inline"
   ]
  },
  {
   "cell_type": "code",
   "execution_count": 3,
   "metadata": {},
   "outputs": [
    {
     "data": {
      "text/html": [
       "<table border=\"1\" class=\"dataframe\">\n",
       "    <thead>\n",
       "        <tr>\n",
       "            <th>SEX</th> <th>AGE</th> <th>CENSUS2010POP</th> <th>ESTIMATESBASE2010</th> <th>POPESTIMATE2010</th> <th>POPESTIMATE2011</th> <th>POPESTIMATE2012</th> <th>POPESTIMATE2013</th> <th>POPESTIMATE2014</th> <th>POPESTIMATE2015</th>\n",
       "        </tr>\n",
       "    </thead>\n",
       "    <tbody>\n",
       "        <tr>\n",
       "            <td>0   </td> <td>0   </td> <td>3944153      </td> <td>3944160          </td> <td>3951330        </td> <td>3963087        </td> <td>3926540        </td> <td>3931141        </td> <td>3949775        </td> <td>3978038        </td>\n",
       "        </tr>\n",
       "        <tr>\n",
       "            <td>0   </td> <td>1   </td> <td>3978070      </td> <td>3978090          </td> <td>3957888        </td> <td>3966551        </td> <td>3977939        </td> <td>3942872        </td> <td>3949776        </td> <td>3968564        </td>\n",
       "        </tr>\n",
       "        <tr>\n",
       "            <td>0   </td> <td>2   </td> <td>4096929      </td> <td>4096939          </td> <td>4090862        </td> <td>3971565        </td> <td>3980095        </td> <td>3992720        </td> <td>3959664        </td> <td>3966583        </td>\n",
       "        </tr>\n",
       "        <tr>\n",
       "            <td>0   </td> <td>3   </td> <td>4119040      </td> <td>4119051          </td> <td>4111920        </td> <td>4102470        </td> <td>3983157        </td> <td>3992734        </td> <td>4007079        </td> <td>3974061        </td>\n",
       "        </tr>\n",
       "        <tr>\n",
       "            <td>0   </td> <td>4   </td> <td>4063170      </td> <td>4063186          </td> <td>4077551        </td> <td>4122294        </td> <td>4112849        </td> <td>3994449        </td> <td>4005716        </td> <td>4020035        </td>\n",
       "        </tr>\n",
       "        <tr>\n",
       "            <td>0   </td> <td>5   </td> <td>4056858      </td> <td>4056872          </td> <td>4064653        </td> <td>4087709        </td> <td>4132242        </td> <td>4123626        </td> <td>4006900        </td> <td>4018158        </td>\n",
       "        </tr>\n",
       "        <tr>\n",
       "            <td>0   </td> <td>6   </td> <td>4066381      </td> <td>4066412          </td> <td>4073013        </td> <td>4074993        </td> <td>4097605        </td> <td>4142916        </td> <td>4135930        </td> <td>4019207        </td>\n",
       "        </tr>\n",
       "        <tr>\n",
       "            <td>0   </td> <td>7   </td> <td>4030579      </td> <td>4030594          </td> <td>4043046        </td> <td>4083225        </td> <td>4084913        </td> <td>4108349        </td> <td>4155326        </td> <td>4148360        </td>\n",
       "        </tr>\n",
       "        <tr>\n",
       "            <td>0   </td> <td>8   </td> <td>4046486      </td> <td>4046497          </td> <td>4025604        </td> <td>4053203        </td> <td>4093177        </td> <td>4095711        </td> <td>4120903        </td> <td>4167887        </td>\n",
       "        </tr>\n",
       "        <tr>\n",
       "            <td>0   </td> <td>9   </td> <td>4148353      </td> <td>4148369          </td> <td>4125415        </td> <td>4035710        </td> <td>4063152        </td> <td>4104072        </td> <td>4108349        </td> <td>4133564        </td>\n",
       "        </tr>\n",
       "    </tbody>\n",
       "</table>\n",
       "<p>... (296 rows omitted)</p>"
      ],
      "text/plain": [
       "SEX  | AGE  | CENSUS2010POP | ESTIMATESBASE2010 | POPESTIMATE2010 | POPESTIMATE2011 | POPESTIMATE2012 | POPESTIMATE2013 | POPESTIMATE2014 | POPESTIMATE2015\n",
       "0    | 0    | 3944153       | 3944160           | 3951330         | 3963087         | 3926540         | 3931141         | 3949775         | 3978038\n",
       "0    | 1    | 3978070       | 3978090           | 3957888         | 3966551         | 3977939         | 3942872         | 3949776         | 3968564\n",
       "0    | 2    | 4096929       | 4096939           | 4090862         | 3971565         | 3980095         | 3992720         | 3959664         | 3966583\n",
       "0    | 3    | 4119040       | 4119051           | 4111920         | 4102470         | 3983157         | 3992734         | 4007079         | 3974061\n",
       "0    | 4    | 4063170       | 4063186           | 4077551         | 4122294         | 4112849         | 3994449         | 4005716         | 4020035\n",
       "0    | 5    | 4056858       | 4056872           | 4064653         | 4087709         | 4132242         | 4123626         | 4006900         | 4018158\n",
       "0    | 6    | 4066381       | 4066412           | 4073013         | 4074993         | 4097605         | 4142916         | 4135930         | 4019207\n",
       "0    | 7    | 4030579       | 4030594           | 4043046         | 4083225         | 4084913         | 4108349         | 4155326         | 4148360\n",
       "0    | 8    | 4046486       | 4046497           | 4025604         | 4053203         | 4093177         | 4095711         | 4120903         | 4167887\n",
       "0    | 9    | 4148353       | 4148369           | 4125415         | 4035710         | 4063152         | 4104072         | 4108349         | 4133564\n",
       "... (296 rows omitted)"
      ]
     },
     "execution_count": 3,
     "metadata": {},
     "output_type": "execute_result"
    }
   ],
   "source": [
    "Data= Table .read_table(\"nc-est2015-agesex-res.csv\")\n",
    "Data\n"
   ]
  },
  {
   "cell_type": "code",
   "execution_count": 4,
   "metadata": {},
   "outputs": [
    {
     "data": {
      "text/html": [
       "<table border=\"1\" class=\"dataframe\">\n",
       "    <thead>\n",
       "        <tr>\n",
       "            <th>SEX</th> <th>AGE</th> <th>2010</th> <th>2015</th>\n",
       "        </tr>\n",
       "    </thead>\n",
       "    <tbody>\n",
       "        <tr>\n",
       "            <td>0   </td> <td>0   </td> <td>3944153</td> <td>3978038</td>\n",
       "        </tr>\n",
       "        <tr>\n",
       "            <td>0   </td> <td>1   </td> <td>3978070</td> <td>3968564</td>\n",
       "        </tr>\n",
       "        <tr>\n",
       "            <td>0   </td> <td>2   </td> <td>4096929</td> <td>3966583</td>\n",
       "        </tr>\n",
       "        <tr>\n",
       "            <td>0   </td> <td>3   </td> <td>4119040</td> <td>3974061</td>\n",
       "        </tr>\n",
       "        <tr>\n",
       "            <td>0   </td> <td>4   </td> <td>4063170</td> <td>4020035</td>\n",
       "        </tr>\n",
       "        <tr>\n",
       "            <td>0   </td> <td>5   </td> <td>4056858</td> <td>4018158</td>\n",
       "        </tr>\n",
       "        <tr>\n",
       "            <td>0   </td> <td>6   </td> <td>4066381</td> <td>4019207</td>\n",
       "        </tr>\n",
       "        <tr>\n",
       "            <td>0   </td> <td>7   </td> <td>4030579</td> <td>4148360</td>\n",
       "        </tr>\n",
       "        <tr>\n",
       "            <td>0   </td> <td>8   </td> <td>4046486</td> <td>4167887</td>\n",
       "        </tr>\n",
       "        <tr>\n",
       "            <td>0   </td> <td>9   </td> <td>4148353</td> <td>4133564</td>\n",
       "        </tr>\n",
       "    </tbody>\n",
       "</table>\n",
       "<p>... (296 rows omitted)</p>"
      ],
      "text/plain": [
       "SEX  | AGE  | 2010    | 2015\n",
       "0    | 0    | 3944153 | 3978038\n",
       "0    | 1    | 3978070 | 3968564\n",
       "0    | 2    | 4096929 | 3966583\n",
       "0    | 3    | 4119040 | 3974061\n",
       "0    | 4    | 4063170 | 4020035\n",
       "0    | 5    | 4056858 | 4018158\n",
       "0    | 6    | 4066381 | 4019207\n",
       "0    | 7    | 4030579 | 4148360\n",
       "0    | 8    | 4046486 | 4167887\n",
       "0    | 9    | 4148353 | 4133564\n",
       "... (296 rows omitted)"
      ]
     },
     "execution_count": 4,
     "metadata": {},
     "output_type": "execute_result"
    }
   ],
   "source": [
    "\n",
    "table1_selected=Data.select(0,1,2,9)\n",
    "table2010=table1_selected.relabeled(2,'2010')\n",
    "\n",
    "table2015=table2010.relabeled(3,'2015')\n",
    "table2015"
   ]
  },
  {
   "cell_type": "code",
   "execution_count": 5,
   "metadata": {},
   "outputs": [
    {
     "data": {
      "text/html": [
       "<table border=\"1\" class=\"dataframe\">\n",
       "    <thead>\n",
       "        <tr>\n",
       "            <th>SEX</th> <th>AGE</th> <th>2010</th> <th>2015</th> <th>Growth rate</th>\n",
       "        </tr>\n",
       "    </thead>\n",
       "    <tbody>\n",
       "        <tr>\n",
       "            <td>1   </td> <td>0   </td> <td>2014276</td> <td>2035134</td> <td>53328.9    </td>\n",
       "        </tr>\n",
       "        <tr>\n",
       "            <td>1   </td> <td>1   </td> <td>2030853</td> <td>2029295</td> <td>53806.4    </td>\n",
       "        </tr>\n",
       "        <tr>\n",
       "            <td>1   </td> <td>2   </td> <td>2092198</td> <td>2026604</td> <td>55450.2    </td>\n",
       "        </tr>\n",
       "        <tr>\n",
       "            <td>1   </td> <td>3   </td> <td>2104550</td> <td>2030644</td> <td>55749.8    </td>\n",
       "        </tr>\n",
       "        <tr>\n",
       "            <td>1   </td> <td>4   </td> <td>2077550</td> <td>2055924</td> <td>54864.5    </td>\n",
       "        </tr>\n",
       "        <tr>\n",
       "            <td>1   </td> <td>5   </td> <td>2072094</td> <td>2050848</td> <td>54754.3    </td>\n",
       "        </tr>\n",
       "        <tr>\n",
       "            <td>1   </td> <td>6   </td> <td>2075319</td> <td>2050663</td> <td>54840.7    </td>\n",
       "        </tr>\n",
       "        <tr>\n",
       "            <td>1   </td> <td>7   </td> <td>2057076</td> <td>2117118</td> <td>53927      </td>\n",
       "        </tr>\n",
       "        <tr>\n",
       "            <td>1   </td> <td>8   </td> <td>2065453</td> <td>2128825</td> <td>54072      </td>\n",
       "        </tr>\n",
       "        <tr>\n",
       "            <td>1   </td> <td>9   </td> <td>2119696</td> <td>2111678</td> <td>55604.4    </td>\n",
       "        </tr>\n",
       "    </tbody>\n",
       "</table>\n",
       "<p>... (192 rows omitted)</p>"
      ],
      "text/plain": [
       "SEX  | AGE  | 2010    | 2015    | Growth rate\n",
       "1    | 0    | 2014276 | 2035134 | 53328.9\n",
       "1    | 1    | 2030853 | 2029295 | 53806.4\n",
       "1    | 2    | 2092198 | 2026604 | 55450.2\n",
       "1    | 3    | 2104550 | 2030644 | 55749.8\n",
       "1    | 4    | 2077550 | 2055924 | 54864.5\n",
       "1    | 5    | 2072094 | 2050848 | 54754.3\n",
       "1    | 6    | 2075319 | 2050663 | 54840.7\n",
       "1    | 7    | 2057076 | 2117118 | 53927\n",
       "1    | 8    | 2065453 | 2128825 | 54072\n",
       "1    | 9    | 2119696 | 2111678 | 55604.4\n",
       "... (192 rows omitted)"
      ]
     },
     "execution_count": 5,
     "metadata": {},
     "output_type": "execute_result"
    }
   ],
   "source": [
    "growth_rate=table2015.column('2010')/ table2015.column('2015')**(1/4)-1\n",
    "\n",
    "a = table2015.with_column(\"Growth rate\",growth_rate)\n",
    "\n",
    "a1=a.where('SEX',are.between(1,3))\n",
    "a2=a1.where('AGE',are.between(0,101))\n",
    "\n",
    "a2"
   ]
  },
  {
   "cell_type": "code",
   "execution_count": 6,
   "metadata": {},
   "outputs": [
    {
     "data": {
      "text/html": [
       "<table border=\"1\" class=\"dataframe\">\n",
       "    <thead>\n",
       "        <tr>\n",
       "            <th>SEX</th> <th>AGE</th> <th>2010</th> <th>2015</th> <th>Growth rate</th>\n",
       "        </tr>\n",
       "    </thead>\n",
       "    <tbody>\n",
       "        <tr>\n",
       "            <td>2   </td> <td>49  </td> <td>2341230</td> <td>2099680</td> <td>61503.3    </td>\n",
       "        </tr>\n",
       "        <tr>\n",
       "            <td>2   </td> <td>50  </td> <td>2359941</td> <td>2227286</td> <td>61087.2    </td>\n",
       "        </tr>\n",
       "        <tr>\n",
       "            <td>1   </td> <td>19  </td> <td>2341984</td> <td>2184392</td> <td>60917.8    </td>\n",
       "        </tr>\n",
       "        <tr>\n",
       "            <td>2   </td> <td>48  </td> <td>2301062</td> <td>2062616</td> <td>60717.9    </td>\n",
       "        </tr>\n",
       "        <tr>\n",
       "            <td>2   </td> <td>47  </td> <td>2297017</td> <td>2054083</td> <td>60674      </td>\n",
       "        </tr>\n",
       "        <tr>\n",
       "            <td>1   </td> <td>18  </td> <td>2305473</td> <td>2156041</td> <td>60164.3    </td>\n",
       "        </tr>\n",
       "        <tr>\n",
       "            <td>2   </td> <td>46  </td> <td>2288779</td> <td>2095675</td> <td>60154.2    </td>\n",
       "        </tr>\n",
       "        <tr>\n",
       "            <td>1   </td> <td>50  </td> <td>2300354</td> <td>2173002</td> <td>59913.2    </td>\n",
       "        </tr>\n",
       "        <tr>\n",
       "            <td>1   </td> <td>49  </td> <td>2264671</td> <td>2052872</td> <td>59828.4    </td>\n",
       "        </tr>\n",
       "        <tr>\n",
       "            <td>1   </td> <td>20  </td> <td>2308319</td> <td>2240373</td> <td>59663.5    </td>\n",
       "        </tr>\n",
       "    </tbody>\n",
       "</table>\n",
       "<p>... (192 rows omitted)</p>"
      ],
      "text/plain": [
       "SEX  | AGE  | 2010    | 2015    | Growth rate\n",
       "2    | 49   | 2341230 | 2099680 | 61503.3\n",
       "2    | 50   | 2359941 | 2227286 | 61087.2\n",
       "1    | 19   | 2341984 | 2184392 | 60917.8\n",
       "2    | 48   | 2301062 | 2062616 | 60717.9\n",
       "2    | 47   | 2297017 | 2054083 | 60674\n",
       "1    | 18   | 2305473 | 2156041 | 60164.3\n",
       "2    | 46   | 2288779 | 2095675 | 60154.2\n",
       "1    | 50   | 2300354 | 2173002 | 59913.2\n",
       "1    | 49   | 2264671 | 2052872 | 59828.4\n",
       "1    | 20   | 2308319 | 2240373 | 59663.5\n",
       "... (192 rows omitted)"
      ]
     },
     "execution_count": 6,
     "metadata": {},
     "output_type": "execute_result"
    }
   ],
   "source": [
    "a2.sort('Growth rate',descending=True)"
   ]
  },
  {
   "cell_type": "code",
   "execution_count": 12,
   "metadata": {},
   "outputs": [
    {
     "data": {
      "text/html": [
       "<table border=\"1\" class=\"dataframe\">\n",
       "    <thead>\n",
       "        <tr>\n",
       "            <th>AGE</th> <th>Men</th> <th>Growth rate</th>\n",
       "        </tr>\n",
       "    </thead>\n",
       "    <tbody>\n",
       "        <tr>\n",
       "            <td>0   </td> <td>2035134</td> <td>53328.9    </td>\n",
       "        </tr>\n",
       "        <tr>\n",
       "            <td>1   </td> <td>2029295</td> <td>53806.4    </td>\n",
       "        </tr>\n",
       "        <tr>\n",
       "            <td>2   </td> <td>2026604</td> <td>55450.2    </td>\n",
       "        </tr>\n",
       "        <tr>\n",
       "            <td>3   </td> <td>2030644</td> <td>55749.8    </td>\n",
       "        </tr>\n",
       "        <tr>\n",
       "            <td>4   </td> <td>2055924</td> <td>54864.5    </td>\n",
       "        </tr>\n",
       "        <tr>\n",
       "            <td>5   </td> <td>2050848</td> <td>54754.3    </td>\n",
       "        </tr>\n",
       "        <tr>\n",
       "            <td>6   </td> <td>2050663</td> <td>54840.7    </td>\n",
       "        </tr>\n",
       "        <tr>\n",
       "            <td>7   </td> <td>2117118</td> <td>53927      </td>\n",
       "        </tr>\n",
       "        <tr>\n",
       "            <td>8   </td> <td>2128825</td> <td>54072      </td>\n",
       "        </tr>\n",
       "        <tr>\n",
       "            <td>9   </td> <td>2111678</td> <td>55604.4    </td>\n",
       "        </tr>\n",
       "    </tbody>\n",
       "</table>\n",
       "<p>... (90 rows omitted)</p>"
      ],
      "text/plain": [
       "AGE  | Men     | Growth rate\n",
       "0    | 2035134 | 53328.9\n",
       "1    | 2029295 | 53806.4\n",
       "2    | 2026604 | 55450.2\n",
       "3    | 2030644 | 55749.8\n",
       "4    | 2055924 | 54864.5\n",
       "5    | 2050848 | 54754.3\n",
       "6    | 2050663 | 54840.7\n",
       "7    | 2117118 | 53927\n",
       "8    | 2128825 | 54072\n",
       "9    | 2111678 | 55604.4\n",
       "... (90 rows omitted)"
      ]
     },
     "execution_count": 12,
     "metadata": {},
     "output_type": "execute_result"
    }
   ],
   "source": [
    "\n",
    "men = a2.where(\"SEX\", 1).where(\"AGE\",are.between(0,100))\n",
    "Men=men.drop('SEX',2)\n",
    "Men\n",
    "m1=Men.relabeled(1,'Men')\n",
    "m1"
   ]
  },
  {
   "cell_type": "code",
   "execution_count": 11,
   "metadata": {},
   "outputs": [
    {
     "data": {
      "text/html": [
       "<table border=\"1\" class=\"dataframe\">\n",
       "    <thead>\n",
       "        <tr>\n",
       "            <th>AGE</th> <th>Women</th> <th>Growth rate</th>\n",
       "        </tr>\n",
       "    </thead>\n",
       "    <tbody>\n",
       "        <tr>\n",
       "            <td>0   </td> <td>1942904</td> <td>51690.2    </td>\n",
       "        </tr>\n",
       "        <tr>\n",
       "            <td>1   </td> <td>1939269</td> <td>52179.1    </td>\n",
       "        </tr>\n",
       "        <tr>\n",
       "            <td>2   </td> <td>1939979</td> <td>53715.4    </td>\n",
       "        </tr>\n",
       "        <tr>\n",
       "            <td>3   </td> <td>1943417</td> <td>53953      </td>\n",
       "        </tr>\n",
       "        <tr>\n",
       "            <td>4   </td> <td>1964111</td> <td>53039.1    </td>\n",
       "        </tr>\n",
       "        <tr>\n",
       "            <td>5   </td> <td>1967310</td> <td>52994.7    </td>\n",
       "        </tr>\n",
       "        <tr>\n",
       "            <td>6   </td> <td>1968544</td> <td>53154.5    </td>\n",
       "        </tr>\n",
       "        <tr>\n",
       "            <td>7   </td> <td>2031242</td> <td>52274.4    </td>\n",
       "        </tr>\n",
       "        <tr>\n",
       "            <td>8   </td> <td>2039062</td> <td>52423.5    </td>\n",
       "        </tr>\n",
       "        <tr>\n",
       "            <td>9   </td> <td>2021886</td> <td>53797.4    </td>\n",
       "        </tr>\n",
       "    </tbody>\n",
       "</table>\n",
       "<p>... (90 rows omitted)</p>"
      ],
      "text/plain": [
       "AGE  | Women   | Growth rate\n",
       "0    | 1942904 | 51690.2\n",
       "1    | 1939269 | 52179.1\n",
       "2    | 1939979 | 53715.4\n",
       "3    | 1943417 | 53953\n",
       "4    | 1964111 | 53039.1\n",
       "5    | 1967310 | 52994.7\n",
       "6    | 1968544 | 53154.5\n",
       "7    | 2031242 | 52274.4\n",
       "8    | 2039062 | 52423.5\n",
       "9    | 2021886 | 53797.4\n",
       "... (90 rows omitted)"
      ]
     },
     "execution_count": 11,
     "metadata": {},
     "output_type": "execute_result"
    }
   ],
   "source": [
    "women= a2.where(\"SEX\", 2).where(\"AGE\",are.between(0,100))\n",
    "Women=women.drop('SEX','2010')\n",
    "Women\n",
    "w1=Women.relabeled(1,'Women')\n",
    "w1"
   ]
  },
  {
   "cell_type": "code",
   "execution_count": 18,
   "metadata": {},
   "outputs": [
    {
     "data": {
      "text/html": [
       "<table border=\"1\" class=\"dataframe\">\n",
       "    <thead>\n",
       "        <tr>\n",
       "            <th>AGE</th> <th>Women</th> <th>Growth rate</th> <th>Men</th>\n",
       "        </tr>\n",
       "    </thead>\n",
       "    <tbody>\n",
       "        <tr>\n",
       "            <td>0   </td> <td>1942904</td> <td>51690.2    </td> <td>2035134</td>\n",
       "        </tr>\n",
       "        <tr>\n",
       "            <td>1   </td> <td>1939269</td> <td>52179.1    </td> <td>2029295</td>\n",
       "        </tr>\n",
       "        <tr>\n",
       "            <td>2   </td> <td>1939979</td> <td>53715.4    </td> <td>2026604</td>\n",
       "        </tr>\n",
       "        <tr>\n",
       "            <td>3   </td> <td>1943417</td> <td>53953      </td> <td>2030644</td>\n",
       "        </tr>\n",
       "        <tr>\n",
       "            <td>4   </td> <td>1964111</td> <td>53039.1    </td> <td>2055924</td>\n",
       "        </tr>\n",
       "        <tr>\n",
       "            <td>5   </td> <td>1967310</td> <td>52994.7    </td> <td>2050848</td>\n",
       "        </tr>\n",
       "        <tr>\n",
       "            <td>6   </td> <td>1968544</td> <td>53154.5    </td> <td>2050663</td>\n",
       "        </tr>\n",
       "        <tr>\n",
       "            <td>7   </td> <td>2031242</td> <td>52274.4    </td> <td>2117118</td>\n",
       "        </tr>\n",
       "        <tr>\n",
       "            <td>8   </td> <td>2039062</td> <td>52423.5    </td> <td>2128825</td>\n",
       "        </tr>\n",
       "        <tr>\n",
       "            <td>9   </td> <td>2021886</td> <td>53797.4    </td> <td>2111678</td>\n",
       "        </tr>\n",
       "    </tbody>\n",
       "</table>\n",
       "<p>... (90 rows omitted)</p>"
      ],
      "text/plain": [
       "AGE  | Women   | Growth rate | Men\n",
       "0    | 1942904 | 51690.2     | 2035134\n",
       "1    | 1939269 | 52179.1     | 2029295\n",
       "2    | 1939979 | 53715.4     | 2026604\n",
       "3    | 1943417 | 53953       | 2030644\n",
       "4    | 1964111 | 53039.1     | 2055924\n",
       "5    | 1967310 | 52994.7     | 2050848\n",
       "6    | 1968544 | 53154.5     | 2050663\n",
       "7    | 2031242 | 52274.4     | 2117118\n",
       "8    | 2039062 | 52423.5     | 2128825\n",
       "9    | 2021886 | 53797.4     | 2111678\n",
       "... (90 rows omitted)"
      ]
     },
     "execution_count": 18,
     "metadata": {},
     "output_type": "execute_result"
    }
   ],
   "source": [
    "b=m1.select('Men')\n",
    "b\n",
    "a = w1.with_columns(b)\n",
    "a"
   ]
  },
  {
   "cell_type": "code",
   "execution_count": 20,
   "metadata": {},
   "outputs": [
    {
     "data": {
      "image/png": "[encoded data removed]",
      "text/plain": [
       "<Figure size 432x288 with 1 Axes>"
      ]
     },
     "metadata": {
      "needs_background": "light"
     },
     "output_type": "display_data"
    }
   ],
   "source": [
    "a.select(0,1,3).plot(0)"
   ]
  },
  {
   "cell_type": "code",
   "execution_count": null,
   "metadata": {},
   "outputs": [],
   "source": []
  }
 ],
 "metadata": {
  "kernelspec": {
   "display_name": "Python 3",
   "language": "python",
   "name": "python3"
  },
  "language_info": {
   "codemirror_mode": {
    "name": "ipython",
    "version": 3
   },
   "file_extension": ".py",
   "mimetype": "text/x-python",
   "name": "python",
   "nbconvert_exporter": "python",
   "pygments_lexer": "ipython3",
   "version": "3.7.3"
  }
 },
 "nbformat": 4,
 "nbformat_minor": 2
}
